{
 "cells": [
  {
   "cell_type": "code",
   "execution_count": 5,
   "metadata": {},
   "outputs": [
    {
     "name": "stdout",
     "output_type": "stream",
     "text": [
      "Evaluating RMSE of algorithm KNNBasic on 3 split(s).\n",
      "\n",
      "                  Fold 1  Fold 2  Fold 3  Mean    Std     \n",
      "RMSE (testset)    0.9875  0.9864  0.9934  0.9891  0.0031  \n",
      "Fit time          0.56    0.69    0.63    0.63    0.05    \n",
      "Test time         8.26    7.89    7.83    7.99    0.19    \n",
      "Evaluating RMSE of algorithm SVD on 3 split(s).\n",
      "\n",
      "                  Fold 1  Fold 2  Fold 3  Mean    Std     \n",
      "RMSE (testset)    0.9474  0.9459  0.9440  0.9458  0.0014  \n",
      "Fit time          8.57    8.22    8.56    8.45    0.16    \n",
      "Test time         0.52    0.47    0.31    0.43    0.09    \n",
      "Evaluating RMSE of algorithm SVDpp on 3 split(s).\n",
      "\n",
      "                  Fold 1  Fold 2  Fold 3  Mean    Std     \n",
      "RMSE (testset)    0.9272  0.9325  0.9282  0.9293  0.0023  \n",
      "Fit time          335.23  340.59  334.60  336.81  2.69    \n",
      "Test time         10.81   7.66    11.08   9.85    1.55    \n"
     ]
    },
    {
     "data": {
      "text/plain": [
       "{'fit_time': (335.23341059684753, 340.5917148590088, 334.59706139564514),\n",
       " 'test_rmse': array([ 0.92724955,  0.93245637,  0.92819232]),\n",
       " 'test_time': (10.807210206985474, 7.6568989753723145, 11.07970380783081)}"
      ]
     },
     "execution_count": 5,
     "metadata": {},
     "output_type": "execute_result"
    }
   ],
   "source": [
    "from surprise import SVD\n",
    "from surprise import SVDpp\n",
    "from surprise import KNNBasic\n",
    "from surprise import Dataset\n",
    "from surprise.model_selection import cross_validate\n",
    "\n",
    "# Load the movielens-100k dataset (download it if needed).\n",
    "data = Dataset.load_builtin('ml-100k')\n",
    "\n",
    "# Use the famous SVD algorithm.\n",
    "algo0 = KNNBasic()\n",
    "algo1 = SVD()\n",
    "algo2 = SVDpp()\n",
    "# Run 5-fold cross-validation and print results.\n",
    "cross_validate(algo0, data, measures=['RMSE'], cv=3, verbose=True)\n",
    "cross_validate(algo1, data, measures=['RMSE'], cv=3, verbose=True)\n",
    "cross_validate(algo2, data, measures=['RMSE'], cv=3, verbose=True)"
   ]
  }
 ],
 "metadata": {
  "kernelspec": {
   "display_name": "Python 3",
   "language": "python",
   "name": "python3"
  },
  "language_info": {
   "codemirror_mode": {
    "name": "ipython",
    "version": 3
   },
   "file_extension": ".py",
   "mimetype": "text/x-python",
   "name": "python",
   "nbconvert_exporter": "python",
   "pygments_lexer": "ipython3",
   "version": "3.5.4"
  }
 },
 "nbformat": 4,
 "nbformat_minor": 2
}
